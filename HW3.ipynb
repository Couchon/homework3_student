{
 "cells": [
  {
   "cell_type": "markdown",
   "id": "815a3a32",
   "metadata": {},
   "source": [
    "## Make sure you are checking that your code full runs in your notebook before submitting to Gradescope!\n",
    "1. Restart your kernel with the refresh button in the top panel below this tab.\n",
    "2. Run through all your cells one by one, checking to see there are no errors!\n",
    "3. Read through the Submission and Autograder announcement on Canvas for more details. "
   ]
  },
  {
   "cell_type": "code",
   "execution_count": 80,
   "id": "b2d16e2f",
   "metadata": {
    "tags": []
   },
   "outputs": [],
   "source": [
    "%%capture\n",
    "import sys\n",
    "!{sys.executable} -m pip install otter-grader\n",
    "# Initialize Otter\n",
    "import otter\n",
    "grader = otter.Notebook(\"HW3.ipynb\")"
   ]
  },
  {
   "cell_type": "markdown",
   "id": "fd903061",
   "metadata": {},
   "source": [
    "# Homework #3\n",
    "**Due Friday Nov. 8th @ 11:59 pm**\n",
    "\n",
    "**Regrade Request Due Date: Friday Nov. 22nd @ 11:59 pm**\n",
    "\n",
    "**Objective:** This assignment will give you experience with NumPy genfromtext, Pandas, advanced plotting, and Cartopy.\n",
    "\n",
    "## **Instructions:**\n",
    "Read through the following instructions carefully!\n",
    "### Accessing Class Code and Instructions\n",
    "\n",
    "1. Create a fork of the class repository in GitHub.\n",
    "\n",
    "2. Clone this repository into the home directory of your own JupyterHub by running this command:\n",
    "```git clone your_SSH_URL```\n",
    "\n",
    "**Our JupyterHub server has trouble remembering the file permissions for our SSH keys. If you get a file permission error with your private ssh key, run the following line of code in your Terminal:**\n",
    "\n",
    "```chmod 400 ~/.ssh/id_ed25519``` \n",
    "<br>\n",
    "\n",
    "This will change your file permission to the proper permissions that SSH requires.\n",
    "\n",
    "3. There should now be a \"homework_3\" directory in the home directory of your JupyterHub. In terminal, change directories into \"homework_3\". Next, click on the the \"homework_3\" icon on the filepath hierarchy in the left panel of JupyterHub. If you don't see it, make sure you're in the home folder by clicking the folder icon under the search bar. \n",
    "\n",
    "4. Double click the \"HW3.ipynb\" to open it in a new tab and begin working on the assignment. Read the instructions carefully, and make sure to write your answers in the specified cells. \n",
    "\n",
    "5. Make sure to use the answer variable names provided in the starter code. There are autograder tests embedded in the notebook that will check your work when you run the Autograder, and you can which tests you passed/failed after you submit.\n",
    "\n",
    "6. Edit the **README** file and write your name and UW NetID. Add a paragraph on why the following plots elements (below) are necessary when designing figures (4-5 sentences). (5 points) \n",
    "\n",
    "6. As you continue to answer the homework questions and make edits to your code, make sure to regularly update your GitHub repository as well via git add, commit, and push. A good rule of thumb would be to run these git steps anytime you make an addition or change that you don't want to accidentally lose. Generally, you can push once a day to maintain good version control practices. <br>\n",
    "\n",
    "Also, make sure that your git commands are running without errors before you refresh your GitHub and check your changes. If you are not seeing the updated changes you created in your local JupyterHub directory, check where your status is by this command: <br>\n",
    "``` git status```\n",
    "\n",
    "Then, you can see if you made an error with your git add, commit, or push commands.\n",
    "\n",
    "### Required Plot Elements for Figures\n",
    "This assignments requires you to create and design figures using `matplotlib`. To practice good plotting practices, each figure will require the following to receive full points:\n",
    "1) Concise, descriptive title for each figure/subplot\n",
    "2) Axis labels with units (when possible)\n",
    "3) Appropriate axis limits (minimum and maximum)\n",
    "4) Appropriate tick resolution\n",
    "5) Legend when using different datasets \n",
    "6) Appropriate font size (a good range is 12-15)\n",
    "\n",
    "### Storing your answers\n",
    "In the code cells where you will write your answers, there will be comments denoting:\n",
    "\n",
    "\"**# your code**\"\n",
    "\n",
    "and \n",
    "\n",
    "\"**# answer variables**\"\n",
    "\n",
    "You may store any intermediary variables in the **your code** section. If you do not have any intermediary variables, you can leave the \"your code\" section blank and store your answer directly in the answer variables.\n",
    "    \n",
    "### Submitting to GradeScope\n",
    "\n",
    "1. Add, commit, and push your changes to GitHub via the command line in JupyterHub.\n",
    "\n",
    "2. Go to the class Gradescope dashboard and submit your personal GitHub repository link to the Homework 3 assignment. If prompted, log in to GitHub.\n",
    "\n",
    "3. Run the autograder to check if your code runs and if you passed the initial unit tests. You should be able to run the autograder as many times as you want before submitting. Again, double check that your final answers are stored in the provided variable names given in the starter code!\n",
    "\n",
    "4. Once the autograder has finished running, check that you have submitted the assignment. If you make any more changes to your code after submitting to Gradescope, make sure to push your changes to GitHub and resubmit the assignment on Gradescope. You can submit as many times as you want as there is no maximum submission attempts, but be sure to have your final submission in before the deadline.\n",
    "\n",
    "\n",
    "### Honor Code\n",
    "\n",
    "- Complete the assignment by writing and executing text and code cells as specified. For this assignment, do not use any features of Python that have not yet been discussed in the lessons or class sessions.\n",
    "\n",
    "- Please keep in mind our late work and dropped homework grading policy. Review the syllabus for details.\n",
    "\n",
    "- You can acknowledge and describe any assistance you've received on this assignment in the specified cell of this HW3 notebook, whether that was from an instructor, classmate (either directly or on Ed Discussion), and/or online resources other than official Python documentation websites like docs.python.org or numpy.org. Alternatively, if you prefer, you may acknowledge assistance at the relevant point(s) in your code using a Python comment (#). \n",
    "\n",
    "- Don't forget that you can receive 5 points of extra credit from answering at least one question on [Ed Discussion](https://edstem.org/us/courses/67282)!"
   ]
  },
  {
   "cell_type": "markdown",
   "id": "376e936f-8b6f-4443-ad7b-2b19619268c7",
   "metadata": {},
   "source": [
    "**Help Received for this Homework Assignment**\n",
    "\n",
    "\n",
    "-Office hours from Lydia for Part 2 of Question 1 (Syntax help with []==[])\n",
    "\n",
    "-Figuring out my realine loop syntax issue with stack overflow as confirmation\n",
    "https://stackoverflow.com/questions/42971904/readline-with-for-loop-issue\n",
    "\n",
    "-Problem solved error codes and syntax with with group member Liam for some of the \n",
    "graphing in part 3 and 4 of question 2"
   ]
  },
  {
   "cell_type": "markdown",
   "id": "2efa719f",
   "metadata": {},
   "source": [
    "## Grade Breakdown\n",
    "- Question 1: 25 points\n",
    "- Question 2: 30 points\n",
    "- Question 3: 30 points\n",
    "- Best coding practices: 10 points\n",
    "- README: 5 points\n",
    "\n",
    "**Total: 100 points**\n",
    "\n",
    "- Extra Credit: 5 points for answering a question on Ed Discussion"
   ]
  },
  {
   "cell_type": "markdown",
   "id": "de46f16d",
   "metadata": {
    "deletable": false,
    "editable": false
   },
   "source": [
    "# Question 1: Pandas and CSV Files (25 points)\n",
    "\n",
    "<div>\n",
    "<center>\n",
    "    <img src = \"https://i0.wp.com/datalab.marine.rutgers.edu/wp-content/uploads/2020/08/Oregon-Slope-Base-Nutrients_v3-e1597077722888.jpg?w=885&ssl=1\"\n",
    "         width = \"500\"\\>\n",
    "<center>\n",
    "</div>\n",
    "\n",
    "For this exercise we will be examining vertical profiler data from Axial Seamount curated by [Ocean Data Labs](https://datalab.marine.rutgers.edu/data-nuggets/nutrients/).\n",
    "\n",
    "The figure above shows temperature, salinity, dissolved oxygen, dissolved organic matter, and nitrate depth profiles over a 4 month period in 2017. It was created using the profiler data you will be looking at today. The data will be directly accessed from the Ocean Data Labs website, using the `profiler_url` string in the cell below.\n",
    "\n",
    "\n",
    "## Instructions \n",
    "Write your code and print your answers for Parts 1-4 in the specified cells below. Don't forget to import any necessary packages, and you will only need to import them once throughout your notebook.   \n",
    "<br>Make sure to utilize the *print()* statements or write your own print statements for your answers at the bottom of each cell and _**use the provided variables to store your final answer!**_ You may name intermediary variables whatever you like, as long as the final answer is stored and printed in the ones we provide in your starter code."
   ]
  },
  {
   "cell_type": "markdown",
   "id": "48740923-b945-4896-b47b-fc370fb16f05",
   "metadata": {
    "deletable": false,
    "editable": false
   },
   "source": [
    "### Part 1\n",
    "Using Pandas, read the csv file into a DataFrame by its URL (`profiler_url` in cell below) and store it in the `pro_df` answer variable. If you forgot how to do read in a file, read the Pandas [documentation](https://pandas.pydata.org/docs/reference/api/pandas.read_csv.html). \n",
    "\n",
    "Print the names of the columns in this DataFrame and store many rows it has in the `df_rows` answer variable. (5 points)"
   ]
  },
  {
   "cell_type": "code",
   "execution_count": 81,
   "id": "2fd2273e",
   "metadata": {
    "deletable": false,
    "editable": false,
    "tags": []
   },
   "outputs": [],
   "source": [
    "# URL to read in to pandas, DO NOT change this!\n",
    "profiler_url = 'https://datalab.marine.rutgers.edu/wp-content/uploads/2020/08/E01_RS03AXPS_Axial_Base_profiler.csv'"
   ]
  },
  {
   "cell_type": "code",
   "execution_count": 82,
   "id": "27d24bf7",
   "metadata": {
    "tags": []
   },
   "outputs": [
    {
     "name": "stdout",
     "output_type": "stream",
     "text": [
      "Part 1)\n",
      "Profiler Dataframe Columns: 7\n",
      "Dataframe has 305459 rows\n"
     ]
    }
   ],
   "source": [
    "# don't forget to print both your answer variables and the outputs that instructions say to print!\n",
    "## PART 1\n",
    "print(\"Part 1)\")\n",
    "# your code\n",
    "import pandas as pd\n",
    "#display(pro_df)\n",
    "#using len to understand the dimensions at first and to check work in addition to display\n",
    "#print(len(pro_df))\n",
    "#indexing the shape to get rows and columns with 0 and 1 \n",
    "pro_df = pd.read_csv(profiler_url)\n",
    "df_rows = pro_df.shape[0]\n",
    "df_columns = pro_df.shape[1]\n",
    "# fill in the pritng statements\n",
    "print(\"Profiler Dataframe Columns:\", df_columns)\n",
    "print(\"Dataframe has\" ,df_rows , \"rows\")"
   ]
  },
  {
   "cell_type": "markdown",
   "id": "9530dce7-0f4a-49ee-a2b7-971e1d243d64",
   "metadata": {
    "deletable": false,
    "editable": false
   },
   "source": [
    "### Part 2\n",
    "Use the `describe()` function to show and display summary parameters (mean, max, std, count, etc.) of each column of the DataFrame. Without hardcoding, store and print the mean value of the \"Seawater Temperature (deg_C)\" column in the `mean_temp` answer variable. \n",
    "\n",
    "If you are having trouble accessing your column, double check that you are spelling the column name exactly as it is stored in the dataframe. You can also use your _tab_ button to autofill. (5 points)"
   ]
  },
  {
   "cell_type": "code",
   "execution_count": 83,
   "id": "04ba8d86-31fb-4ef7-a24f-82245d3279e3",
   "metadata": {
    "tags": []
   },
   "outputs": [
    {
     "name": "stdout",
     "output_type": "stream",
     "text": [
      "Part 2)\n"
     ]
    },
    {
     "data": {
      "text/html": [
       "<div>\n",
       "<style scoped>\n",
       "    .dataframe tbody tr th:only-of-type {\n",
       "        vertical-align: middle;\n",
       "    }\n",
       "\n",
       "    .dataframe tbody tr th {\n",
       "        vertical-align: top;\n",
       "    }\n",
       "\n",
       "    .dataframe thead th {\n",
       "        text-align: right;\n",
       "    }\n",
       "</style>\n",
       "<table border=\"1\" class=\"dataframe\">\n",
       "  <thead>\n",
       "    <tr style=\"text-align: right;\">\n",
       "      <th></th>\n",
       "      <th>time</th>\n",
       "      <th>Pressure Bin (dbar)</th>\n",
       "      <th>Seawater Temperature (deg_C)</th>\n",
       "      <th>Practical Salinity</th>\n",
       "      <th>Dissolved Oxygen (umol kg-1)</th>\n",
       "      <th>CDOM (ppb)</th>\n",
       "      <th>Nitrate (µmol L-1)</th>\n",
       "    </tr>\n",
       "  </thead>\n",
       "  <tbody>\n",
       "    <tr>\n",
       "      <th>0</th>\n",
       "      <td>2017-08-04 00:00:00</td>\n",
       "      <td>147.0</td>\n",
       "      <td>7.88</td>\n",
       "      <td>33.80</td>\n",
       "      <td>197.85</td>\n",
       "      <td>1.62</td>\n",
       "      <td>NaN</td>\n",
       "    </tr>\n",
       "    <tr>\n",
       "      <th>1</th>\n",
       "      <td>2017-08-04 00:00:00</td>\n",
       "      <td>148.0</td>\n",
       "      <td>7.89</td>\n",
       "      <td>33.80</td>\n",
       "      <td>197.37</td>\n",
       "      <td>1.69</td>\n",
       "      <td>NaN</td>\n",
       "    </tr>\n",
       "    <tr>\n",
       "      <th>2</th>\n",
       "      <td>2017-08-04 00:00:00</td>\n",
       "      <td>149.0</td>\n",
       "      <td>7.88</td>\n",
       "      <td>33.81</td>\n",
       "      <td>194.42</td>\n",
       "      <td>1.74</td>\n",
       "      <td>NaN</td>\n",
       "    </tr>\n",
       "    <tr>\n",
       "      <th>3</th>\n",
       "      <td>2017-08-04 00:00:00</td>\n",
       "      <td>150.0</td>\n",
       "      <td>7.87</td>\n",
       "      <td>33.81</td>\n",
       "      <td>191.80</td>\n",
       "      <td>1.74</td>\n",
       "      <td>NaN</td>\n",
       "    </tr>\n",
       "    <tr>\n",
       "      <th>4</th>\n",
       "      <td>2017-08-04 00:00:00</td>\n",
       "      <td>151.0</td>\n",
       "      <td>7.86</td>\n",
       "      <td>33.82</td>\n",
       "      <td>191.13</td>\n",
       "      <td>1.74</td>\n",
       "      <td>NaN</td>\n",
       "    </tr>\n",
       "    <tr>\n",
       "      <th>...</th>\n",
       "      <td>...</td>\n",
       "      <td>...</td>\n",
       "      <td>...</td>\n",
       "      <td>...</td>\n",
       "      <td>...</td>\n",
       "      <td>...</td>\n",
       "      <td>...</td>\n",
       "    </tr>\n",
       "    <tr>\n",
       "      <th>305454</th>\n",
       "      <td>2017-12-08 17:00:00</td>\n",
       "      <td>184.0</td>\n",
       "      <td>7.52</td>\n",
       "      <td>33.84</td>\n",
       "      <td>184.74</td>\n",
       "      <td>1.86</td>\n",
       "      <td>NaN</td>\n",
       "    </tr>\n",
       "    <tr>\n",
       "      <th>305455</th>\n",
       "      <td>2017-12-08 17:00:00</td>\n",
       "      <td>185.0</td>\n",
       "      <td>7.50</td>\n",
       "      <td>33.85</td>\n",
       "      <td>184.43</td>\n",
       "      <td>1.82</td>\n",
       "      <td>NaN</td>\n",
       "    </tr>\n",
       "    <tr>\n",
       "      <th>305456</th>\n",
       "      <td>2017-12-08 17:00:00</td>\n",
       "      <td>186.0</td>\n",
       "      <td>7.48</td>\n",
       "      <td>33.86</td>\n",
       "      <td>184.16</td>\n",
       "      <td>1.85</td>\n",
       "      <td>NaN</td>\n",
       "    </tr>\n",
       "    <tr>\n",
       "      <th>305457</th>\n",
       "      <td>2017-12-08 17:00:00</td>\n",
       "      <td>187.0</td>\n",
       "      <td>7.39</td>\n",
       "      <td>33.87</td>\n",
       "      <td>182.00</td>\n",
       "      <td>1.83</td>\n",
       "      <td>NaN</td>\n",
       "    </tr>\n",
       "    <tr>\n",
       "      <th>305458</th>\n",
       "      <td>2017-12-08 18:00:00</td>\n",
       "      <td>187.0</td>\n",
       "      <td>7.40</td>\n",
       "      <td>33.87</td>\n",
       "      <td>181.87</td>\n",
       "      <td>1.82</td>\n",
       "      <td>NaN</td>\n",
       "    </tr>\n",
       "  </tbody>\n",
       "</table>\n",
       "<p>305459 rows × 7 columns</p>\n",
       "</div>"
      ],
      "text/plain": [
       "                       time  Pressure Bin (dbar)   \n",
       "0       2017-08-04 00:00:00                147.0  \\\n",
       "1       2017-08-04 00:00:00                148.0   \n",
       "2       2017-08-04 00:00:00                149.0   \n",
       "3       2017-08-04 00:00:00                150.0   \n",
       "4       2017-08-04 00:00:00                151.0   \n",
       "...                     ...                  ...   \n",
       "305454  2017-12-08 17:00:00                184.0   \n",
       "305455  2017-12-08 17:00:00                185.0   \n",
       "305456  2017-12-08 17:00:00                186.0   \n",
       "305457  2017-12-08 17:00:00                187.0   \n",
       "305458  2017-12-08 18:00:00                187.0   \n",
       "\n",
       "        Seawater Temperature (deg_C)  Practical Salinity   \n",
       "0                               7.88               33.80  \\\n",
       "1                               7.89               33.80   \n",
       "2                               7.88               33.81   \n",
       "3                               7.87               33.81   \n",
       "4                               7.86               33.82   \n",
       "...                              ...                 ...   \n",
       "305454                          7.52               33.84   \n",
       "305455                          7.50               33.85   \n",
       "305456                          7.48               33.86   \n",
       "305457                          7.39               33.87   \n",
       "305458                          7.40               33.87   \n",
       "\n",
       "        Dissolved Oxygen (umol kg-1)  CDOM (ppb)  Nitrate (µmol L-1)  \n",
       "0                             197.85        1.62                 NaN  \n",
       "1                             197.37        1.69                 NaN  \n",
       "2                             194.42        1.74                 NaN  \n",
       "3                             191.80        1.74                 NaN  \n",
       "4                             191.13        1.74                 NaN  \n",
       "...                              ...         ...                 ...  \n",
       "305454                        184.74        1.86                 NaN  \n",
       "305455                        184.43        1.82                 NaN  \n",
       "305456                        184.16        1.85                 NaN  \n",
       "305457                        182.00        1.83                 NaN  \n",
       "305458                        181.87        1.82                 NaN  \n",
       "\n",
       "[305459 rows x 7 columns]"
      ]
     },
     "metadata": {},
     "output_type": "display_data"
    },
    {
     "name": "stdout",
     "output_type": "stream",
     "text": [
      "The mean seawater temperature is 9.380233178688474\n"
     ]
    }
   ],
   "source": [
    "## PART 2\n",
    "print(\"Part 2)\")\n",
    "# your code\n",
    "#all of this below will have a hashtag added but it's part of what I used to...\n",
    "#problem solve\n",
    "\n",
    "#               des_pro_df = pd.DataFrame.describe(pro_df)\n",
    "#               display(des_pro_df)\n",
    "display(pro_df)\n",
    "#               column_names = des_pro_df.columns.tolist()\n",
    "#               print(column_names)\n",
    "# answer variables\n",
    "#longway_mean_temp = des_pro_df['Seawater Temperature (deg_C)'].mean(axis=0)\n",
    "\n",
    "#The syntax on this made me almost cry a little but I figured it out\n",
    "#it's: pull the data, index data, function you want AND THEN the axis (columns in 0)\n",
    "\n",
    "\n",
    "#also I just realized I did it way harder than I needed to because...\n",
    "#I wasn't using the direct pull from the secribe function !!!\n",
    "#so now I try again and replace the variable name earlier so I can use the right one here\n",
    "\n",
    "mean_temp = pro_df.describe()['Seawater Temperature (deg_C)']['mean']\n",
    "\n",
    "#the syntax on this was difficult as well but I finally realized to avoid hardcoding...\n",
    "#and to have everything in one line .describe() shouldn't have the indexing within it!\n",
    "# print statements\n",
    "\n",
    "print (\"The mean seawater temperature is\", mean_temp)\n",
    "#what I used to compare my answer       print('9.380233178688474')\n"
   ]
  },
  {
   "cell_type": "markdown",
   "id": "474828a5-21ba-4bd9-9ab3-a9a8d224bf37",
   "metadata": {
    "deletable": false,
    "editable": false
   },
   "source": [
    "### Part 3\n",
    "Use the `loc()` function to find all rows of your DataFrame where the \"time\" column is equal to the string \"2017-08-08 17:00:00\". Assign those rows to a new DataFrame and store them in the `aug_df` answer variable. \n",
    "\n",
    "Repeat for where time is \"2017-12-04 17:00:00\". Store the resulting subsetted dataframe in the `dec_df` answer variable. Use the `display()` function to print your new, subsetted dataframes. (5 points)"
   ]
  },
  {
   "cell_type": "code",
   "execution_count": 84,
   "id": "b7f1b589-f9fb-41cb-86e7-bd23e6ab98cd",
   "metadata": {
    "tags": []
   },
   "outputs": [
    {
     "name": "stdout",
     "output_type": "stream",
     "text": [
      "Part 3)\n"
     ]
    },
    {
     "data": {
      "text/html": [
       "<div>\n",
       "<style scoped>\n",
       "    .dataframe tbody tr th:only-of-type {\n",
       "        vertical-align: middle;\n",
       "    }\n",
       "\n",
       "    .dataframe tbody tr th {\n",
       "        vertical-align: top;\n",
       "    }\n",
       "\n",
       "    .dataframe thead th {\n",
       "        text-align: right;\n",
       "    }\n",
       "</style>\n",
       "<table border=\"1\" class=\"dataframe\">\n",
       "  <thead>\n",
       "    <tr style=\"text-align: right;\">\n",
       "      <th></th>\n",
       "      <th>time</th>\n",
       "      <th>Pressure Bin (dbar)</th>\n",
       "      <th>Seawater Temperature (deg_C)</th>\n",
       "      <th>Practical Salinity</th>\n",
       "      <th>Dissolved Oxygen (umol kg-1)</th>\n",
       "      <th>CDOM (ppb)</th>\n",
       "      <th>Nitrate (µmol L-1)</th>\n",
       "    </tr>\n",
       "  </thead>\n",
       "  <tbody>\n",
       "    <tr>\n",
       "      <th>13122</th>\n",
       "      <td>2017-08-08 17:00:00</td>\n",
       "      <td>11.0</td>\n",
       "      <td>17.08</td>\n",
       "      <td>32.62</td>\n",
       "      <td>279.88</td>\n",
       "      <td>0.80</td>\n",
       "      <td>NaN</td>\n",
       "    </tr>\n",
       "    <tr>\n",
       "      <th>13123</th>\n",
       "      <td>2017-08-08 17:00:00</td>\n",
       "      <td>12.0</td>\n",
       "      <td>17.08</td>\n",
       "      <td>32.62</td>\n",
       "      <td>279.91</td>\n",
       "      <td>1.08</td>\n",
       "      <td>NaN</td>\n",
       "    </tr>\n",
       "    <tr>\n",
       "      <th>13124</th>\n",
       "      <td>2017-08-08 17:00:00</td>\n",
       "      <td>13.0</td>\n",
       "      <td>17.08</td>\n",
       "      <td>32.62</td>\n",
       "      <td>279.81</td>\n",
       "      <td>1.15</td>\n",
       "      <td>NaN</td>\n",
       "    </tr>\n",
       "    <tr>\n",
       "      <th>13125</th>\n",
       "      <td>2017-08-08 17:00:00</td>\n",
       "      <td>14.0</td>\n",
       "      <td>17.09</td>\n",
       "      <td>32.62</td>\n",
       "      <td>279.88</td>\n",
       "      <td>0.96</td>\n",
       "      <td>NaN</td>\n",
       "    </tr>\n",
       "    <tr>\n",
       "      <th>13126</th>\n",
       "      <td>2017-08-08 17:00:00</td>\n",
       "      <td>15.0</td>\n",
       "      <td>17.09</td>\n",
       "      <td>32.62</td>\n",
       "      <td>279.85</td>\n",
       "      <td>0.81</td>\n",
       "      <td>NaN</td>\n",
       "    </tr>\n",
       "    <tr>\n",
       "      <th>...</th>\n",
       "      <td>...</td>\n",
       "      <td>...</td>\n",
       "      <td>...</td>\n",
       "      <td>...</td>\n",
       "      <td>...</td>\n",
       "      <td>...</td>\n",
       "      <td>...</td>\n",
       "    </tr>\n",
       "    <tr>\n",
       "      <th>13293</th>\n",
       "      <td>2017-08-08 17:00:00</td>\n",
       "      <td>182.0</td>\n",
       "      <td>7.46</td>\n",
       "      <td>33.88</td>\n",
       "      <td>181.86</td>\n",
       "      <td>1.81</td>\n",
       "      <td>NaN</td>\n",
       "    </tr>\n",
       "    <tr>\n",
       "      <th>13294</th>\n",
       "      <td>2017-08-08 17:00:00</td>\n",
       "      <td>183.0</td>\n",
       "      <td>7.45</td>\n",
       "      <td>33.88</td>\n",
       "      <td>181.53</td>\n",
       "      <td>1.80</td>\n",
       "      <td>NaN</td>\n",
       "    </tr>\n",
       "    <tr>\n",
       "      <th>13295</th>\n",
       "      <td>2017-08-08 17:00:00</td>\n",
       "      <td>184.0</td>\n",
       "      <td>7.44</td>\n",
       "      <td>33.88</td>\n",
       "      <td>181.34</td>\n",
       "      <td>1.81</td>\n",
       "      <td>NaN</td>\n",
       "    </tr>\n",
       "    <tr>\n",
       "      <th>13296</th>\n",
       "      <td>2017-08-08 17:00:00</td>\n",
       "      <td>185.0</td>\n",
       "      <td>7.41</td>\n",
       "      <td>33.88</td>\n",
       "      <td>180.84</td>\n",
       "      <td>1.91</td>\n",
       "      <td>NaN</td>\n",
       "    </tr>\n",
       "    <tr>\n",
       "      <th>13297</th>\n",
       "      <td>2017-08-08 17:00:00</td>\n",
       "      <td>186.0</td>\n",
       "      <td>7.32</td>\n",
       "      <td>33.89</td>\n",
       "      <td>173.44</td>\n",
       "      <td>1.85</td>\n",
       "      <td>NaN</td>\n",
       "    </tr>\n",
       "  </tbody>\n",
       "</table>\n",
       "<p>176 rows × 7 columns</p>\n",
       "</div>"
      ],
      "text/plain": [
       "                      time  Pressure Bin (dbar)  Seawater Temperature (deg_C)   \n",
       "13122  2017-08-08 17:00:00                 11.0                         17.08  \\\n",
       "13123  2017-08-08 17:00:00                 12.0                         17.08   \n",
       "13124  2017-08-08 17:00:00                 13.0                         17.08   \n",
       "13125  2017-08-08 17:00:00                 14.0                         17.09   \n",
       "13126  2017-08-08 17:00:00                 15.0                         17.09   \n",
       "...                    ...                  ...                           ...   \n",
       "13293  2017-08-08 17:00:00                182.0                          7.46   \n",
       "13294  2017-08-08 17:00:00                183.0                          7.45   \n",
       "13295  2017-08-08 17:00:00                184.0                          7.44   \n",
       "13296  2017-08-08 17:00:00                185.0                          7.41   \n",
       "13297  2017-08-08 17:00:00                186.0                          7.32   \n",
       "\n",
       "       Practical Salinity  Dissolved Oxygen (umol kg-1)  CDOM (ppb)   \n",
       "13122               32.62                        279.88        0.80  \\\n",
       "13123               32.62                        279.91        1.08   \n",
       "13124               32.62                        279.81        1.15   \n",
       "13125               32.62                        279.88        0.96   \n",
       "13126               32.62                        279.85        0.81   \n",
       "...                   ...                           ...         ...   \n",
       "13293               33.88                        181.86        1.81   \n",
       "13294               33.88                        181.53        1.80   \n",
       "13295               33.88                        181.34        1.81   \n",
       "13296               33.88                        180.84        1.91   \n",
       "13297               33.89                        173.44        1.85   \n",
       "\n",
       "       Nitrate (µmol L-1)  \n",
       "13122                 NaN  \n",
       "13123                 NaN  \n",
       "13124                 NaN  \n",
       "13125                 NaN  \n",
       "13126                 NaN  \n",
       "...                   ...  \n",
       "13293                 NaN  \n",
       "13294                 NaN  \n",
       "13295                 NaN  \n",
       "13296                 NaN  \n",
       "13297                 NaN  \n",
       "\n",
       "[176 rows x 7 columns]"
      ]
     },
     "metadata": {},
     "output_type": "display_data"
    },
    {
     "data": {
      "text/html": [
       "<div>\n",
       "<style scoped>\n",
       "    .dataframe tbody tr th:only-of-type {\n",
       "        vertical-align: middle;\n",
       "    }\n",
       "\n",
       "    .dataframe tbody tr th {\n",
       "        vertical-align: top;\n",
       "    }\n",
       "\n",
       "    .dataframe thead th {\n",
       "        text-align: right;\n",
       "    }\n",
       "</style>\n",
       "<table border=\"1\" class=\"dataframe\">\n",
       "  <thead>\n",
       "    <tr style=\"text-align: right;\">\n",
       "      <th></th>\n",
       "      <th>time</th>\n",
       "      <th>Pressure Bin (dbar)</th>\n",
       "      <th>Seawater Temperature (deg_C)</th>\n",
       "      <th>Practical Salinity</th>\n",
       "      <th>Dissolved Oxygen (umol kg-1)</th>\n",
       "      <th>CDOM (ppb)</th>\n",
       "      <th>Nitrate (µmol L-1)</th>\n",
       "    </tr>\n",
       "  </thead>\n",
       "  <tbody>\n",
       "    <tr>\n",
       "      <th>294165</th>\n",
       "      <td>2017-12-04 17:00:00</td>\n",
       "      <td>13.0</td>\n",
       "      <td>11.66</td>\n",
       "      <td>32.47</td>\n",
       "      <td>301.15</td>\n",
       "      <td>1.33</td>\n",
       "      <td>NaN</td>\n",
       "    </tr>\n",
       "    <tr>\n",
       "      <th>294166</th>\n",
       "      <td>2017-12-04 17:00:00</td>\n",
       "      <td>14.0</td>\n",
       "      <td>11.66</td>\n",
       "      <td>32.47</td>\n",
       "      <td>301.15</td>\n",
       "      <td>1.21</td>\n",
       "      <td>NaN</td>\n",
       "    </tr>\n",
       "    <tr>\n",
       "      <th>294167</th>\n",
       "      <td>2017-12-04 17:00:00</td>\n",
       "      <td>15.0</td>\n",
       "      <td>11.66</td>\n",
       "      <td>32.47</td>\n",
       "      <td>301.13</td>\n",
       "      <td>1.32</td>\n",
       "      <td>NaN</td>\n",
       "    </tr>\n",
       "    <tr>\n",
       "      <th>294168</th>\n",
       "      <td>2017-12-04 17:00:00</td>\n",
       "      <td>16.0</td>\n",
       "      <td>11.66</td>\n",
       "      <td>32.47</td>\n",
       "      <td>301.04</td>\n",
       "      <td>1.33</td>\n",
       "      <td>NaN</td>\n",
       "    </tr>\n",
       "    <tr>\n",
       "      <th>294169</th>\n",
       "      <td>2017-12-04 17:00:00</td>\n",
       "      <td>17.0</td>\n",
       "      <td>11.66</td>\n",
       "      <td>32.47</td>\n",
       "      <td>301.11</td>\n",
       "      <td>1.16</td>\n",
       "      <td>NaN</td>\n",
       "    </tr>\n",
       "    <tr>\n",
       "      <th>...</th>\n",
       "      <td>...</td>\n",
       "      <td>...</td>\n",
       "      <td>...</td>\n",
       "      <td>...</td>\n",
       "      <td>...</td>\n",
       "      <td>...</td>\n",
       "      <td>...</td>\n",
       "    </tr>\n",
       "    <tr>\n",
       "      <th>294336</th>\n",
       "      <td>2017-12-04 17:00:00</td>\n",
       "      <td>184.0</td>\n",
       "      <td>7.50</td>\n",
       "      <td>33.88</td>\n",
       "      <td>193.62</td>\n",
       "      <td>1.78</td>\n",
       "      <td>NaN</td>\n",
       "    </tr>\n",
       "    <tr>\n",
       "      <th>294337</th>\n",
       "      <td>2017-12-04 17:00:00</td>\n",
       "      <td>185.0</td>\n",
       "      <td>7.49</td>\n",
       "      <td>33.88</td>\n",
       "      <td>193.22</td>\n",
       "      <td>1.88</td>\n",
       "      <td>NaN</td>\n",
       "    </tr>\n",
       "    <tr>\n",
       "      <th>294338</th>\n",
       "      <td>2017-12-04 17:00:00</td>\n",
       "      <td>186.0</td>\n",
       "      <td>7.47</td>\n",
       "      <td>33.88</td>\n",
       "      <td>192.90</td>\n",
       "      <td>1.81</td>\n",
       "      <td>NaN</td>\n",
       "    </tr>\n",
       "    <tr>\n",
       "      <th>294339</th>\n",
       "      <td>2017-12-04 17:00:00</td>\n",
       "      <td>187.0</td>\n",
       "      <td>7.45</td>\n",
       "      <td>33.88</td>\n",
       "      <td>192.54</td>\n",
       "      <td>1.80</td>\n",
       "      <td>NaN</td>\n",
       "    </tr>\n",
       "    <tr>\n",
       "      <th>294340</th>\n",
       "      <td>2017-12-04 17:00:00</td>\n",
       "      <td>188.0</td>\n",
       "      <td>7.34</td>\n",
       "      <td>33.89</td>\n",
       "      <td>188.58</td>\n",
       "      <td>1.85</td>\n",
       "      <td>NaN</td>\n",
       "    </tr>\n",
       "  </tbody>\n",
       "</table>\n",
       "<p>176 rows × 7 columns</p>\n",
       "</div>"
      ],
      "text/plain": [
       "                       time  Pressure Bin (dbar)   \n",
       "294165  2017-12-04 17:00:00                 13.0  \\\n",
       "294166  2017-12-04 17:00:00                 14.0   \n",
       "294167  2017-12-04 17:00:00                 15.0   \n",
       "294168  2017-12-04 17:00:00                 16.0   \n",
       "294169  2017-12-04 17:00:00                 17.0   \n",
       "...                     ...                  ...   \n",
       "294336  2017-12-04 17:00:00                184.0   \n",
       "294337  2017-12-04 17:00:00                185.0   \n",
       "294338  2017-12-04 17:00:00                186.0   \n",
       "294339  2017-12-04 17:00:00                187.0   \n",
       "294340  2017-12-04 17:00:00                188.0   \n",
       "\n",
       "        Seawater Temperature (deg_C)  Practical Salinity   \n",
       "294165                         11.66               32.47  \\\n",
       "294166                         11.66               32.47   \n",
       "294167                         11.66               32.47   \n",
       "294168                         11.66               32.47   \n",
       "294169                         11.66               32.47   \n",
       "...                              ...                 ...   \n",
       "294336                          7.50               33.88   \n",
       "294337                          7.49               33.88   \n",
       "294338                          7.47               33.88   \n",
       "294339                          7.45               33.88   \n",
       "294340                          7.34               33.89   \n",
       "\n",
       "        Dissolved Oxygen (umol kg-1)  CDOM (ppb)  Nitrate (µmol L-1)  \n",
       "294165                        301.15        1.33                 NaN  \n",
       "294166                        301.15        1.21                 NaN  \n",
       "294167                        301.13        1.32                 NaN  \n",
       "294168                        301.04        1.33                 NaN  \n",
       "294169                        301.11        1.16                 NaN  \n",
       "...                              ...         ...                 ...  \n",
       "294336                        193.62        1.78                 NaN  \n",
       "294337                        193.22        1.88                 NaN  \n",
       "294338                        192.90        1.81                 NaN  \n",
       "294339                        192.54        1.80                 NaN  \n",
       "294340                        188.58        1.85                 NaN  \n",
       "\n",
       "[176 rows x 7 columns]"
      ]
     },
     "metadata": {},
     "output_type": "display_data"
    }
   ],
   "source": [
    "## PART 3\n",
    "print(\"Part 3)\")\n",
    "\n",
    "# your code\n",
    "#loc() label indexing, iloc() integer indeing hence the loc() for this problem\n",
    "# answer variables\n",
    "#in order to properly pull by time i'll use DateTime \n",
    "aug_df = pro_df.loc[pro_df['time']=='2017-08-08 17:00:00']\n",
    "dec_df = pro_df.loc[pro_df['time']=='2017-12-04 17:00:00']\n",
    "\n",
    "# display your new dataframes\n",
    "display(aug_df)\n",
    "display(dec_df)"
   ]
  },
  {
   "cell_type": "markdown",
   "id": "e5998bb9-977b-4070-8bad-6b9aedff7396",
   "metadata": {
    "deletable": false,
    "editable": false
   },
   "source": [
    "<!-- BEGIN QUESTION -->\n",
    "\n",
    "### Part 4\n",
    "4. Your two new DataFrames contain single water column profiles measured at your selected times. Let's make a figure to compare the water column profiles of temperature, dissolved oxygen, and dissolved organic matter (CDOM). Follow these steps, **and make sure to include all required plot elements listed in the Assignment Instructions (above)**: (10 points)\n",
    "\n",
    ">a) `Use matplotlib` to make a figure with three subplots. The subplots should be **columns, not rows**. Check the [documentation](https://matplotlib.org/stable/api/_as_gen/matplotlib.pyplot.subplots.html) if you need help.\n",
    "\t\n",
    ">b) On the first subplot, plot Seawater Temperature (x-axis) vs. depth* (y-axis) for your two subsetted dataframes. Plot two lines in different colors: one profile for your `aug_df` DataFrame, and the other for your `dec_df` DataFrame. Reverse the y-axis so depth values increase downward.\n",
    "\n",
    "*_Note: You can assume pressure is a proxy for depth (1dbar = ~1 meter)._\n",
    "\n",
    ">c) On the second subplot, plot dissolved oxygen vs. depth for the two subsetted dataframes following the same conventions as part b).\n",
    "\n",
    ">d) On the third subplot, plot CDOM vs. depth for the two subsetted dataframes following the same conventions as part b) and part c).\n",
    "\n",
    ">e) Add a grid to each of your subplots.\n",
    "\n",
    ">f) Add a legend to your figure. This can go in any one of your subplots.\n",
    "\n",
    ">g) In a markdown cell below your plot, describe how dissolved oxygen and CDOM vs. depth profiles vary between the two dates you have plotted (2-3 sentences). \n",
    "\n",
    "An example of what your final figure should look like is shown below. You may choose different colors for your dataframes. \n",
    "\n",
    "![example](https://i.ibb.co/C1ngKFg/q1-part4.png)"
   ]
  },
  {
   "cell_type": "markdown",
   "id": "7ea8d9ec",
   "metadata": {},
   "source": [
    "_Type your answer here, replacing this text._"
   ]
  },
  {
   "cell_type": "code",
   "execution_count": 118,
   "id": "6efa0fa1-3473-40a4-ad43-791b7cee8053",
   "metadata": {
    "tags": []
   },
   "outputs": [
    {
     "name": "stdout",
     "output_type": "stream",
     "text": [
      "Part 4)\n"
     ]
    },
    {
     "data": {
      "image/png": "[encoded data removed]",
      "text/plain": [
       "<Figure size 900x600 with 3 Axes>"
      ]
     },
     "metadata": {},
     "output_type": "display_data"
    }
   ],
   "source": [
    "## PART 4\n",
    "print(\"Part 4)\")\n",
    "# your code to create your plot\n",
    "\n",
    "#pulling data from a singular row and then three columns (for the three different x axese and 1 same y axese)\n",
    "fig, axs = plt.subplots(1, 3, figsize=(9, 6))\n",
    "#pressure, as dbar for depth (column 1)\n",
    "#temp, as degree C (column 2)\n",
    "#oxy, as mol kg-1(column 4)\n",
    "#CDOM, as ppb(column 5)\n",
    "\n",
    "#will now seperate out desired columns with known info for ease of formatting\n",
    "#aug_depth_temp_oxy_cdom = aug_df.iloc[:, [1, 2, 4, 5]]\n",
    "#dec_depth_temp_oxy_cdom = dec_df.iloc[:, [1, 2, 4, 5]]\n",
    "#just kidding i hastagged the above two lines out because it is unneeded and useless extra work for this\n",
    "#i am just using tab to make it easy instead \n",
    "\n",
    "#plot temp, graph 1\n",
    "axs[0].plot(aug_df['Seawater Temperature (deg_C)'], aug_df['Pressure Bin (dbar)'], label='August', color='orangered') \n",
    "axs[0].plot(dec_df['Seawater Temperature (deg_C)'], dec_df['Pressure Bin (dbar)'], label='December', color='lightskyblue')\n",
    "axs[0].legend(loc=\"lower right\") #reposition to match example\n",
    "axs[0].set_xlabel(u'Temperature (\\N{DEGREE SIGN}C)') #adding labels\n",
    "axs[0].set_ylabel('Depth (m)')\n",
    "axs[0].set_title('Temperature vs. Depth')\n",
    "axs[0].invert_yaxis() #invert y-axis to make data intuitive with depth\n",
    "axs[0].grid(True, color='gray') #add grid with matching color\n",
    "\n",
    "#plot oxygen, graph 2\n",
    "axs[1].plot(aug_df['Dissolved Oxygen (umol kg-1)'], aug_df['Pressure Bin (dbar)'], label='August', color='orangered') \n",
    "axs[1].plot(dec_df['Dissolved Oxygen (umol kg-1)'], dec_df['Pressure Bin (dbar)'], label='December', color='lightskyblue')\n",
    "axs[1].set_xlabel(u'Dissolved Oxygen (umol kg^-1)') #adding labels\n",
    "#axs[1].set_ylabel('Depth (dbar)') removed for aesthetic\n",
    "axs[1].set_title('Oxygen vs. Depth')\n",
    "axs[1].invert_yaxis() #invert y-axis to make data intuitive with depth\n",
    "axs[1].grid(True, color='gray') #add grid with matching color\n",
    "\n",
    "#plot CDOM, graph 3\n",
    "axs[2].plot(aug_df['CDOM (ppb)'], aug_df['Pressure Bin (dbar)'], label='August', color='orangered') \n",
    "axs[2].plot(dec_df['CDOM (ppb)'], dec_df['Pressure Bin (dbar)'], label='December', color='lightskyblue')\n",
    "axs[2].set_xlabel(u'CDOM (ppb)') #adding labels\n",
    "#axs[2].set_ylabel('Depth (dbar)') removed for aesthetic\n",
    "axs[2].set_title('CDOM vs. Depth')\n",
    "axs[2].invert_yaxis() #invert y-axis to make data intuitive with depth\n",
    "axs[2].grid(True, color='gray') #add grid with matching color\n"
   ]
  },
  {
   "cell_type": "markdown",
   "id": "bcf240b9-b5e5-4ae1-9be5-5649b4d9e23b",
   "metadata": {},
   "source": [
    "g) In a markdown cell below your plot, describe how dissolved oxygen and CDOM vs. depth profiles vary between the two dates you have plotted (2-3 sentences).\n",
    "\n",
    "There is consistency in the variation between the plotted december and august data. The December month has less dissolved oxygen above 100 meters and slightly more below 100m. The December water also has more consistency in the dissolved organic matter with significantly less variability up to 100 meters. Lastly temperature is colder in shallower waters in December which makes sense if water is in upper northern climate and has colder environmental temperatures coming into contact with the water. All three graphs show that seasonal variation has less impact and evens out at around 100 meters depth. "
   ]
  },
  {
   "cell_type": "markdown",
   "id": "7fb1e56d",
   "metadata": {
    "deletable": false,
    "editable": false,
    "tags": []
   },
   "source": [
    "<!-- END QUESTION -->\n",
    "\n",
    "# Question 2: genfromtxt and cartopy (30 points)\n",
    "PANGAEA is an amazing source of oceanographic data. The database has compiled data from over hundreds of cruises, accumulating to over 419,000 datasets with over 25 billion individual measurements and observations. _Citation_: https://doi.org/10.1038/s41597-023-02269-x.\n",
    "\n",
    "For this exercise we will be reading and mapping measured surface salinity and temperature data from a 2016 transatlantic cruise from South America to Europe (COLIBRI cruise 35MJ20150607). Source of ship data: https://doi.pangaea.de/10.1594/PANGAEA.865996.\n",
    "\n",
    "<div>\n",
    "    <center>\n",
    "        <img src = \"https://i.ibb.co/7bXh4XW/Screen-Shot-2024-10-30-at-1-33-27-PM.png\"\n",
    "             width = \"400\"/>\n",
    "    <center>\n",
    "<div/>\n",
    "\n",
    "Our data is stored in a text file in the data folder of this repository: \"data/35MJ20150607_CO2_underway_SOCATv4.tab\"\n",
    "\n",
    "        \n",
    "<div style=\"text-align: left\"> \n",
    "<h2>Instructions </h2>\n",
    "Write your code and print your answers for Parts 1-4 in the specified cells below. Don't forget to import any necessary packages, and you will only need to import them once throughout your notebook.\n",
    "    \n",
    "<br>Make sure to *print()* for your answers at the bottom of each cell and _**use the provided variables to store your final answer!**_ You may name intermediary variables whatever you like, as long as the final answer is stored and printed in the ones we provide in your starter code.\n",
    "</div>"
   ]
  },
  {
   "cell_type": "markdown",
   "id": "5f26d04e-f52a-4526-a191-5315bf22fdef",
   "metadata": {
    "deletable": false,
    "editable": false
   },
   "source": [
    "### Part 1\n",
    "Store your filepath as a string in the `cruise_filepath` variable.\n",
    "\n",
    "Use `readline()` in a loop to print the first 50 rows of `cruise_filepath`. Store how many lines of header are in this text file in the `header_lines` answer varaiable and print the result.\n",
    "\n",
    "Now, look for the columns. Store the column indices for latitude, longitude, measured salinity (Sal), and measured temperature (Temp [°C]) as a tuple in the `data_cols` variable. Print your answer. (5 points)"
   ]
  },
  {
   "cell_type": "code",
   "execution_count": 47,
   "id": "bc1930b1",
   "metadata": {
    "tags": []
   },
   "outputs": [
    {
     "name": "stdout",
     "output_type": "stream",
     "text": [
      "Part 1)\n",
      "/* DATA DESCRIPTION:\n",
      "\n",
      "Citation:\tLefèvre, Nathalie; Diverrès, Denis (2016): Underway physical oceanography and carbon dioxide measurements during COLIBRI cruise 35MJ20150607. Laboratoire d'Océanographie et du Climat: Expérimentation et Approches Numériques, Université Pierre-et-Marie-Curie, France, PANGAEA, https://doi.org/10.1594/PANGAEA.865996, \n",
      "\n",
      "\tIn: Bakker, Dorothee C E; Pfeil, Benjamin; O'Brien, Kevin M; Currie, Kim I; Jones, Steve D; Landa, Camilla S; Lauvset, Siv K; Metzl, Nicolas; Munro, David R; Nakaoka, Shin-Ichiro; Olsen, Are; Pierrot, Denis; Saito, Shu; Smith, Karl; Sweeney, Colm; Takahashi, Taro; Wada, Chisato; Wanninkhof, Rik; Alin, Simone R; Becker, Meike; Bellerby, Richard G J; Borges, Alberto Vieira; Boutin, Jacqueline; Bozec, Yann; Burger, Eugene; Cai, Wei-Jun; Castle, Robert D; Cosca, Catherine E; DeGrandpre, Michael D; Donnelly, Matthew; Eischeid, Greg; Feely, Richard A; Gkritzalis, Thanos; González-Dávila, Melchor; Goyet, Catherine; Guillot, Antoine; Hardman-Mountford, Nicolas J; Hauck, Judith; Hoppema, Mario; Humphreys, Matthew P; Hunt, Christopher W; Ibánhez, J Severino P; Ichikawa, Tadafumi; Ishii, Masao; Juranek, Lauren W; Kitidis, Vassilis; Körtzinger, Arne; Koffi, Urbain K; Kozyr, Alexander; Kuwata, Akira; Lefèvre, Nathalie; Lo Monaco, Claire; Manke, Ansley; Marrec, Pierre; Mathis, Jeremy T; Millero, Frank J; Monacci, Natalie; Monteiro, Pedro M S; Murata, Akihiko; Newberger, Timothy; Nojiri, Yukihiro; Nonaka, Isao; Omar, Abdirahman M; Ono, Tsuneo; Padín, Xose Antonio; Rehder, Gregor; Rutgersson, Anna; Sabine, Christopher L; Salisbury, Joe; Santana-Casiano, Juana Magdalena; Sasano, Daisuke; Schuster, Ute; Sieger, Rainer; Skjelvan, Ingunn; Steinhoff, Tobias; Sullivan, Kevin; Sutherland, Stewart C; Sutton, Adrienne; Tadokoro, Kazuaki; Telszewski, Maciej; Thomas, Helmuth; Tilbrook, Bronte; van Heuven, Steven; Vandemark, Doug; Wallace, Douglas WR; Woosley, Ryan J (2016): Surface Ocean CO2 Atlas (SOCAT) V4. PANGAEA, https://doi.org/10.1594/PANGAEA.866856\n",
      "\n",
      "Related to:\tBakker, Dorothee C E; Pfeil, Benjamin; Landa, Camilla S; Metzl, Nicolas; O'Brien, Kevin M; Olsen, Are; Smith, Karl; Cosca, Catherine E; Harasawa, Sumiko; Jones, Steve D; Nakaoka, Shin-Ichiro; Nojiri, Yukihiro; Schuster, Ute; Steinhoff, Tobias; Sweeney, Colm; Takahashi, Taro; Tilbrook, Bronte; Wada, Chisato; Wanninkhof, Rik; Alin, Simone R; Balestrini, Carlos F; Barbero, Leticia; Bates, Nicolas R; Bianchi, Alejandro A; Bonou, Frédéric Kpédonou; Boutin, Jacqueline; Bozec, Yann; Burger, Eugene; Cai, Wei-Jun; Castle, Robert D; Chen, Liqi; Chierici, Melissa; Currie, Kim I; Evans, Wiley; Featherstone, Charles; Feely, Richard A; Fransson, Agneta; Goyet, Catherine; Greenwood, Naomi; Gregor, Luke; Hankin, Steven; Hardman-Mountford, Nicolas J; Harlay, Jérôme; Hauck, Judith; Hoppema, Mario; Humphreys, Matthew P; Hunt, Christopher W; Huss, Betty; Ibánhez, J Severino P; Johannessen, Truls; Keeling, Ralph F; Kitidis, Vassilis; Körtzinger, Arne; Kozyr, Alexander; Krasakopoulou, Evangelia; Kuwata, Akira; Landschützer, Peter; Lauvset, Siv K; Lefèvre, Nathalie; Lo Monaco, Claire; Manke, Ansley; Mathis, Jeremy T; Merlivat, Liliane; Millero, Frank J; Monteiro, Pedro M S; Munro, David R; Murata, Akihiko; Newberger, Timothy; Omar, Abdirahman M; Ono, Tsuneo; Paterson, Kristina; Pearce, David J; Pierrot, Denis; Robbins, Lisa L; Saito, Shu; Salisbury, Joe; Schlitzer, Reiner; Schneider, Bernd; Schweitzer, Roland; Sieger, Rainer; Skjelvan, Ingunn; Sullivan, Kevin; Sutherland, Stewart C; Sutton, Adrienne; Tadokoro, Kazuaki; Telszewski, Maciej; Tuma, Matthias; van Heuven, Steven; Vandemark, Doug; Ward, Brian; Watson, Andrew J; Xu, Suqing (2016): A multi-decade record of high-quality fCO2 data in version 3 of the Surface Ocean CO2 Atlas (SOCAT). Earth System Science Data, 8(2), 383-413, https://doi.org/10.5194/essd-8-383-2016\n",
      "\n",
      "Other version:\tDocumentation and data in original SOCAT V4 format of Colibri cruise 35MJ20150607 (242 kByte, zipped) (URI: https://store.pangaea.de/Publications/SOCATv4/35MJ/35MJ20150607_bundle.zip)\n",
      "\n",
      "Further details:\tBakker, Dorothee C E; Pfeil, Benjamin; Smith, Karl; Alin, Simone; Currie, Kim I; Jones, Steve D; Kozyr, Alexander; Landa, Camilla S; Lauvset, Siv K; Lefèvre, Nathalie; Metzl, Nicolas; Nakaoka, Shin-Ichiro; Nojiri, Yukihiro; O'Brien, Kevin M; Olsen, Are; Schuster, Ute; Telszewski, Maciej; Tilbrook, Bronte; Wada, Chisato; Wanninkhof, Rik; et al. (2016): Release of SOCAT Version 4 - First annual release using automated data upload. hdl:10013/epic.41336.d028\n",
      "\n",
      "Project(s):\tSurface Ocean CO2 Atlas Project (SOCAT) (URI: http://www.socat.info)\n",
      "\n",
      "Coverage:\tMEDIAN LATITUDE: 31.286976 * MEDIAN LONGITUDE: -28.440608 * SOUTH-BOUND LATITUDE: 5.537000 * WEST-BOUND LONGITUDE: -52.371000 * NORTH-BOUND LATITUDE: 50.151000 * EAST-BOUND LONGITUDE: -1.508000\n",
      "\n",
      "\tDATE/TIME START: 2015-06-07T12:54:44 * DATE/TIME END: 2015-06-18T20:28:49\n",
      "\n",
      "\tMINIMUM DEPTH, water: 0 m * MAXIMUM DEPTH, water: 0 m\n",
      "\n",
      "Event(s):\t35MJ20150607-track * LATITUDE START: 5.537000 * LONGITUDE START: -52.371000 * LATITUDE END: 50.035000 * LONGITUDE END: -1.508000 * DATE/TIME START: 2015-06-07T12:54:44 * DATE/TIME END: 2015-06-18T20:28:49 * CAMPAIGN: 35MJ20150607 * BASIS: Colibri * METHOD/DEVICE: Underway cruise track measurements (CT)\n",
      "\n",
      "Comment:\tCruise QC flag: B (see further details). The Fair Data Use Statement for SOCAT can be found at hdl:10013/epic.48576.d001\n",
      "\n",
      "Parameter(s):\tDATE/TIME (Date/Time) * GEOCODE * PI: Lefèvre, Nathalie (nathalie.lefevre@locean-ipsl.upmc.fr)\n",
      "\n",
      "\tLATITUDE (Latitude) * GEOCODE * PI: Lefèvre, Nathalie (nathalie.lefevre@locean-ipsl.upmc.fr)\n",
      "\n",
      "\tLONGITUDE (Longitude) * GEOCODE * PI: Lefèvre, Nathalie (nathalie.lefevre@locean-ipsl.upmc.fr)\n",
      "\n",
      "\tDEPTH, water [m] (Depth water) * GEOCODE * PI: Lefèvre, Nathalie (nathalie.lefevre@locean-ipsl.upmc.fr)\n",
      "\n",
      "\tSalinity (Sal) * PI: Lefèvre, Nathalie (nathalie.lefevre@locean-ipsl.upmc.fr)\n",
      "\n",
      "\tTemperature, water [°C] (Temp) * PI: Lefèvre, Nathalie (nathalie.lefevre@locean-ipsl.upmc.fr)\n",
      "\n",
      "\tTemperature at equilibration [°C] (Tequ) * PI: Lefèvre, Nathalie (nathalie.lefevre@locean-ipsl.upmc.fr)\n",
      "\n",
      "\tPressure, atmospheric [hPa] (PPPP) * PI: Lefèvre, Nathalie (nathalie.lefevre@locean-ipsl.upmc.fr)\n",
      "\n",
      "\tPressure at equilibration [hPa] (Pequ) * PI: Lefèvre, Nathalie (nathalie.lefevre@locean-ipsl.upmc.fr)\n",
      "\n",
      "\tSalinity, interpolated (Sal interp) * METHOD/DEVICE: extracted from the World Ocean Atlas 2005 (URI: https://en.wikipedia.org/wiki/World_Ocean_Atlas)\n",
      "\n",
      "\tPressure, atmospheric, interpolated [hPa] (PPPP interp) * METHOD/DEVICE: extracted from the NCEP/NCAR 40-Year Reanalysis Project (URI: https://doi.org/10.1175/1520-0477(1996)077%3C0437:TNYRP%3E2.0.CO;2)\n",
      "\n",
      "\tDepth, bathymetric, interpolated/gridded [m] (Bathy depth interp/grid) * METHOD/DEVICE: extracted from the 2-Minute Gridded Global Relief Data (ETOPO2) (URI: http://www.ngdc.noaa.gov/mgg/fliers/01mgg04.html)\n",
      "\n",
      "\tDistance [km] (Distance) * COMMENT: d2l, estimated distance to major land mass\n",
      "\n",
      "\txCO2 (water) at equilibrator temperature (dry air) [µmol/mol] (xCO2water_equ_dry)\n",
      "\n",
      "\tFugacity of carbon dioxide (water) at equilibrator temperature (wet air) [µatm] (fCO2water_equ_wet)\n",
      "\n",
      "\tFugacity of carbon dioxide (water) at sea surface temperature (wet air) [µatm] (fCO2water_SST_wet)\n",
      "\n",
      "\tFugacity of carbon dioxide (water) at sea surface temperature (wet air) [µatm] (fCO2water_SST_wet) * PI: Olsen, Are (https://orcid.org/0000-0003-1696-9142, are.olsen@gfi.uib.no) * METHOD/DEVICE: Recomputed after SOCAT (Pfeil et al., 2013) (URI: https://doi.org/10.5194/essd-5-125-2013) * COMMENT: fCO2rec\n",
      "\n",
      "\tAlgorithm (Algorithm) * COMMENT: fCO2rec_src, Algorithm for generating fCO2rec from the raw data, 0:not generated\n",
      "\n",
      "\tQuality flag (Flag) * COMMENT: fCO2rec_flag, WOCE quality flag for fCO2rec: 2:good, 3:questionable, 4:bad, 9:not generated\n",
      "\n",
      "License:\tCreative Commons Attribution 3.0 Unported (CC-BY-3.0)\n",
      "\n",
      "Size:\t84195 data points\n",
      "\n",
      "*/\n",
      "\n",
      "Date/Time\tLatitude\tLongitude\tDepth water [m]\tSal\tTemp [°C]\tTequ [°C]\tPPPP [hPa]\tPequ [hPa]\tSal interp (extracted from the World Ocea...)\tPPPP interp [hPa] (extracted from the NCEP/NCAR ...)\tBathy depth interp/grid [m] (extracted from the 2-Minute G...)\tDistance [km] (d2l, estimated distance to ma...)\txCO2water_equ_dry [µmol/mol]\tfCO2water_equ_wet [µatm]\tfCO2water_SST_wet [µatm]\tfCO2water_SST_wet [µatm] (fCO2rec, Recomputed after SOC...)\tAlgorithm (fCO2rec_src, Algorithm for ge...)\tFlag (fCO2rec_flag, WOCE quality fl...)\n",
      "\n",
      "2015-06-07T12:54:44\t5.53700\t-52.37100\t0\t29.723\t27.628\t27.750\t1011.700\t1013.800\t28.880\t1012.400\t50\t67\t397.000\t379.800\t379.800\t379.714\t1\t2\n",
      "\n",
      "2015-06-07T12:56:54\t5.54300\t-52.36600\t0\t29.553\t27.610\t27.730\t1011.600\t1013.600\t28.880\t1012.400\t51\t68\t390.200\t373.200\t373.200\t373.180\t1\t2\n",
      "\n",
      "2015-06-07T12:59:04\t5.55000\t-52.36100\t0\t29.375\t27.599\t27.710\t1011.600\t1013.000\t28.880\t1012.400\t52\t69\t386.200\t369.300\t369.300\t369.283\t1\t2\n",
      "\n",
      "2015-06-07T13:01:13\t5.55700\t-52.35600\t0\t29.198\t27.588\t27.710\t1011.600\t1013.800\t28.880\t1012.400\t53\t70\t378.200\t361.900\t361.900\t361.759\t1\t2\n",
      "\n",
      "2015-06-07T13:03:23\t5.56300\t-52.35100\t0\t29.123\t27.596\t27.720\t1011.500\t1013.500\t28.880\t1012.400\t53\t71\t380.600\t364.000\t364.000\t363.904\t1\t2\n",
      "\n",
      "2015-06-07T13:05:33\t5.57000\t-52.34600\t0\t29.046\t27.607\t27.720\t1011.500\t1013.000\t28.880\t1012.400\t53\t72\t373.300\t357.000\t357.000\t356.908\t1\t2\n",
      "\n",
      "2015-06-07T13:07:43\t5.57700\t-52.34100\t0\t28.934\t27.620\t27.750\t1011.500\t1013.000\t28.880\t1012.400\t53\t73\t368.100\t351.800\t351.800\t351.660\t1\t2\n",
      "\n",
      "2015-06-07T13:09:53\t5.58300\t-52.33700\t0\t28.822\t27.634\t27.750\t1011.400\t1013.200\t28.880\t1012.400\t54\t74\t370.700\t354.500\t354.500\t354.425\t1\t2\n",
      "\n",
      "2015-06-07T13:12:03\t5.59000\t-52.33200\t0\t28.746\t27.652\t27.750\t1011.600\t1013.300\t28.880\t1012.400\t54\t75\t363.700\t348.100\t348.100\t348.032\t1\t2\n",
      "\n",
      "2015-06-07T13:14:13\t5.59700\t-52.32700\t0\t28.704\t27.676\t27.770\t1011.400\t1013.700\t28.880\t1012.400\t55\t76\t358.500\t343.300\t343.300\t343.239\t1\t2\n",
      "\n",
      "2015-06-07T13:16:23\t5.60400\t-52.32200\t0\t28.662\t27.700\t27.800\t1011.500\t1013.300\t28.880\t1012.400\t56\t77\t355.400\t340.100\t340.100\t340.024\t1\t2\n",
      "\n",
      "2015-06-07T13:18:33\t5.61000\t-52.31700\t0\t28.545\t27.726\t27.820\t1011.600\t1013.400\t28.880\t1012.400\t57\t77\t353.500\t338.300\t338.300\t338.311\t1\t2\n",
      "\n",
      "2015-06-07T13:20:43\t5.61700\t-52.31200\t0\t28.343\t27.747\t27.840\t1011.700\t1013.300\t28.880\t1012.400\t57\t78\t355.100\t339.900\t339.900\t339.806\t1\t2\n",
      "\n",
      "2015-06-07T13:22:53\t5.62300\t-52.30700\t0\t28.171\t27.756\t27.870\t1011.500\t1014.000\t28.880\t1012.400\t58\t79\t349.600\t334.600\t334.600\t334.462\t1\t2\n",
      "\n",
      "2015-06-07T13:25:03\t5.63000\t-52.30300\t0\t28.000\t27.766\t27.900\t1011.500\t1012.900\t28.880\t1012.400\t59\t80\t351.000\t335.200\t335.200\t335.117\t1\t2\n",
      "\n",
      "There are 35 header lines within this data. Within the data, respectively, the latitude, longitude, salinity, and temperature are stored in the columns [1, 2, 4, 5] .\n"
     ]
    }
   ],
   "source": [
    "print(\"Part 1)\")\n",
    "# your code\n",
    "\n",
    "# answer variables\n",
    "cruise_filepath = \"data/35MJ20150607_CO2_underway_SOCATv4.tab\"\n",
    "read_cruise = open(cruise_filepath, 'r')\n",
    "thefirst50 = []\n",
    "for x in range(50):\n",
    "    thefirst50 = read_cruise.readline()\n",
    "    print(thefirst50)\n",
    "#so in order to figure out how manny lines of header there are I printed out the range in my loop until it was just header and then knew that that number would be the lines of header\n",
    "#I started with 40 then 30 then found that 34 did not show the titles to the data and 35 did) \n",
    "header_lines = 35\n",
    "#similarly to previous I put in what the index for this would be\n",
    "data_cols = [1, 2 ,4, 5]\n",
    "# print statements\n",
    "print('There are', header_lines, 'header lines within this data. Within the data, respectively, the latitude, longitude, salinity, and temperature are stored in the columns', data_cols[:], '.')"
   ]
  },
  {
   "cell_type": "markdown",
   "id": "e6e8fa20-e63f-441a-a8ac-b468f3061ae5",
   "metadata": {
    "deletable": false,
    "editable": false
   },
   "source": [
    "### Part 2\n",
    "2) Use `np.genfromtxt()` to read the latitude, longitude, measured salinity (Sal), and measured temperature (Temp [°C]) columns into a 2-D numpy array of floats. \n",
    "\n",
    "Pass in your tuple from Part 1 as the input for the **usecols** argument in the `genfromtxt()` function. Store the resulting 2-D array in the `lat_lon_sal_temp` answer variable and print it. (5 points)\n",
    "\n",
    "_Optional_: You may also turn your 2-D array into individual 1-D arrays for plotting purposes for parts 3 and 4. "
   ]
  },
  {
   "cell_type": "code",
   "execution_count": 48,
   "id": "06c5d228-a0be-43e6-aa98-4ab682378a7d",
   "metadata": {
    "tags": []
   },
   "outputs": [
    {
     "name": "stdout",
     "output_type": "stream",
     "text": [
      "Part 2)\n",
      "[[  5.537 -52.371  29.723  27.628]\n",
      " [  5.543 -52.366  29.553  27.61 ]\n",
      " [  5.55  -52.361  29.375  27.599]\n",
      " ...\n",
      " [ 50.03   -1.543  35.165  13.335]\n",
      " [ 50.033  -1.525  35.157  13.336]\n",
      " [ 50.035  -1.508  35.156  13.334]]\n"
     ]
    }
   ],
   "source": [
    "print(\"Part 2)\")\n",
    "# your code\n",
    "import numpy as np\n",
    "\n",
    "# answer variables\n",
    "lat_lon_sal_temp = np.genfromtxt(cruise_filepath, skip_header=header_lines, usecols=data_cols)\n",
    "\n",
    "# print statements\n",
    "print(lat_lon_sal_temp)"
   ]
  },
  {
   "cell_type": "markdown",
   "id": "2adec41d-ff2e-46a2-99b8-61a1d53c1bdd",
   "metadata": {
    "deletable": false,
    "editable": false
   },
   "source": [
    "<!-- BEGIN QUESTION -->\n",
    "\n",
    "### Part 3\n",
    "Use `matplotlib` and `cartopy` to plot longitude, latitude, and salinity on a map. **Include all required and relevant plot elements as described in the Assignment Instructions.** Follow these steps: (10 points)\n",
    "\n",
    ">a) Make a figure using `matplotlib.pyplot figure()` to set the figure size to (15,8) ([documentation](\"https://matplotlib.org/stable/api/_as_gen/matplotlib.pyplot.figure.html\")). Set the map projection to **PlateCaree** (check out this [example](\"https://scitools.org.uk/cartopy/docs/v0.15/matplotlib/intro.html\") from the cartopy documentaion).\n",
    "\n",
    ">b) Add coastlines to the map, with resolution set to **110m** and color to **black**.\n",
    "\n",
    ">c) Add OCEAN, LAND, and BORDERS features to the map. Choose appropriate colors for these features.\n",
    "\n",
    ">d) Add latitude and longitude gridlines and set to **white**.\n",
    "\n",
    ">e) Make a scatter plot of latitude, longitude, and salinity on your map. Plot longitude in your x-axis, latitude in your y-axis, and salinity as color. Add a colorbar for salinity and label it with units.  \n",
    "\n",
    "_Optional_: format your latitude and longitude using the `mpl.gridliner` class from `cartopy` ([documentation](https://scitools.org.uk/cartopy/docs/v0.13/matplotlib/gridliner.html) with example)\n",
    "\n",
    ">f) In a comment or markdown cell below your map, answer the following question: \n",
    ">> Do you see any big jumps or anomalies in the salinity data on your map? Where? Why do you think there is/is not a big jump in the data? (2-3 sentences)"
   ]
  },
  {
   "cell_type": "code",
   "execution_count": 68,
   "id": "09a86ea8-3c5f-40d1-834a-089a520868fa",
   "metadata": {
    "tags": []
   },
   "outputs": [
    {
     "name": "stdout",
     "output_type": "stream",
     "text": [
      "Part 3)\n"
     ]
    },
    {
     "data": {
      "image/png": "[encoded data removed]",
      "text/plain": [
       "<Figure size 1500x800 with 2 Axes>"
      ]
     },
     "metadata": {},
     "output_type": "display_data"
    }
   ],
   "source": [
    "print(\"Part 3)\")\n",
    "# your code to create your map\n",
    "import matplotlib.pyplot as plt\n",
    "import cartopy.crs as ccrs\n",
    "import cartopy.feature as cfeature\n",
    "\n",
    "#figure with dimensions and projection type\n",
    "fig = plt.figure(figsize = (15,8))\n",
    "ax = plt.axes(projection = ccrs.PlateCarree())\n",
    "#adding coastlines\n",
    "ax.coastlines(resolution = '110m', color = 'black')\n",
    "#import library for features of map\n",
    "from cartopy.mpl.gridliner import LongitudeFormatter, LatitudeFormatter\n",
    "gl = ax.gridlines(crs=ccrs.PlateCarree(), draw_labels=True, \n",
    "                  color='white', linewidth=1, linestyle= '-', alpha=0.7)\n",
    "#Labels for lat and longs (yes true or no false)\n",
    "gl.top_labels= False\n",
    "gl.bottom_labels = True\n",
    "gl.right_labels = False\n",
    "gl.left_labels = True\n",
    "#format for above labels\n",
    "gl.xformatter = LongitudeFormatter()\n",
    "gl.yformatter = LatitudeFormatter()\n",
    "\n",
    "#plot the lat and lon values \n",
    "lat = lat_lon_sal_temp[:, 0] #first column of lat vals in first column og indexed\n",
    "lon = lat_lon_sal_temp[:, 1] #lon values in second column\n",
    "sal = lat_lon_sal_temp[:, 2] #salinity values in 3rd column\n",
    "\n",
    "#add my features to make the ocean and land all pretty and colorcoded!\n",
    "ax.add_feature(cfeature.BORDERS, edgecolor = 'black')\n",
    "ax.add_feature(cfeature.OCEAN, color = 'darkcyan')\n",
    "ax.add_feature(cfeature.LAND, color = 'olivedrab')\n",
    "\n",
    "#finally! The plot info \n",
    "plt.scatter(lon, lat, c=sal, cmap = 'inferno')\n",
    "#and now the colorbar\n",
    "plt.colorbar(label = u'Salinity ppm')\n",
    "#show plotting done above\n",
    "plt.show()\n",
    "\n",
    "#there is a jump in the data with around 10 degrees lon and \n",
    "#then there is a huge salinity increase towards the coast - these two things could be from equipment malfunction \n",
    "#oe bad weather since this is collected data, it could also be an environmental anomoly towards the shore\n",
    "#such as some kind of man made environmental change or erosion in that area. Or maybe it is a hot and secluded \n",
    "#area of sampled water. #there are many reasons that data could be dropped as well"
   ]
  },
  {
   "cell_type": "markdown",
   "id": "dacb9581-a3b6-49ae-aa2b-a2b3c7e713c7",
   "metadata": {
    "deletable": false,
    "editable": false
   },
   "source": [
    "<!-- END QUESTION -->\n",
    "\n",
    "<!-- BEGIN QUESTION -->\n",
    "\n",
    "### Part 4\n",
    "Make a second map identical to the first, but plot temperature as color instead of salinity. Answer the following question in a comment or markdown cell below your map (10 points):\n",
    "\n",
    "> What is the range of temperature throughout this cruise (maximum - minimum)? Would you expect this big or small of a temperature shift in this ocean basin? Why or why not? (2-3 sentences). "
   ]
  },
  {
   "cell_type": "code",
   "execution_count": 72,
   "id": "3334e5f4-272e-4975-ad77-4aea731e84a3",
   "metadata": {
    "tags": []
   },
   "outputs": [
    {
     "name": "stdout",
     "output_type": "stream",
     "text": [
      "Part 4)\n"
     ]
    },
    {
     "data": {
      "image/png": "[encoded data removed]",
      "text/plain": [
       "<Figure size 1500x800 with 2 Axes>"
      ]
     },
     "metadata": {},
     "output_type": "display_data"
    }
   ],
   "source": [
    "print(\"Part 4)\")\n",
    "# your code to create your map\n",
    "#figure with dimensions and projection type\n",
    "fig = plt.figure(figsize = (15,8))\n",
    "ax = plt.axes(projection = ccrs.PlateCarree())\n",
    "#adding coastlines\n",
    "ax.coastlines(resolution = '110m', color = 'black')\n",
    "#import library for features of map\n",
    "from cartopy.mpl.gridliner import LongitudeFormatter, LatitudeFormatter\n",
    "gl = ax.gridlines(crs=ccrs.PlateCarree(), draw_labels=True, \n",
    "                  color='white', linewidth=1, linestyle= '-', alpha=0.7)\n",
    "#Labels for lat and longs (yes true or no false)\n",
    "gl.top_labels= False\n",
    "gl.bottom_labels = True\n",
    "gl.right_labels = False\n",
    "gl.left_labels = True\n",
    "#format for above labels\n",
    "gl.xformatter = LongitudeFormatter()\n",
    "gl.yformatter = LatitudeFormatter()\n",
    "\n",
    "#plot the lat and lon values \n",
    "lat = lat_lon_sal_temp[:, 0] #first column of lat vals in first column og indexed\n",
    "lon = lat_lon_sal_temp[:, 1] #lon values in second column\n",
    "temp = lat_lon_sal_temp[:, 3] #temp values in 4th column\n",
    "\n",
    "#add my features to make the ocean and land all pretty and colorcoded!\n",
    "ax.add_feature(cfeature.BORDERS, edgecolor = 'black')\n",
    "ax.add_feature(cfeature.OCEAN, color = 'darkcyan')\n",
    "ax.add_feature(cfeature.LAND, color = 'olivedrab')\n",
    "\n",
    "#finally! The plot info \n",
    "plt.scatter(lon, lat, c=temp, cmap = 'inferno')\n",
    "#and now the colorbar\n",
    "plt.colorbar(label = u'Temperature \\N{DEGREE SIGN}C')\n",
    "#show plotting done above\n",
    "plt.show()\n",
    "\n",
    "#The minimum and max temperatures are around 28 to 14 degrees celcius. This feels like an extreme change \n",
    "#that I would not expect to see in any ocean waters. I am unsure why this is happening in such a small area\n",
    "#with presumeably functional and consistent testing (14 degree change feels extreme but maybe my units are off)\n",
    "#maybe this indicates a movement of up and downwelling? Something still feels very off and I will have to problem solve"
   ]
  },
  {
   "cell_type": "markdown",
   "id": "bba2c79b",
   "metadata": {
    "deletable": false,
    "editable": false
   },
   "source": [
    "<!-- END QUESTION -->\n",
    "\n",
    "# Question 3: Xarray and 2-D plotting (30 points)\n",
    "\n",
    "![offshore plot](https://i.ibb.co/WcJnvnH/question3.png)\n",
    "\n",
    "This question uses echo sounder data curated by [Ocean Data Labs](https://datalab.marine.rutgers.edu/data-nuggets/zooplankton-eclipse/).\n",
    "\n",
    "\n",
    "The figure above uses sonar to show diel veritical migration of zooplankton. Zooplankton spend their daylight hours deeper in the water column to avoid visual predators. As the sun sets and the water column darkens, they make their way to the food-rich surface. Sonar using backscattering data to predict where the zooplankton are at a given time. Higher backscattering values correlate to increased biomass. Note in the figure above how the surface shows high backscattering at the surface (dark red), but we can see another layer of lighter blue/green that represents zooplankton moving up and down.\n",
    "\n",
    "  During an eclipse at ~17:00 on August 21st 2017, as the moon blocked the sun’s light, the zooplankton began their nightly vertical migration through the water column. Once the moon moved passed the sun and light in the water column increase, the zooplankton realized their mistake and swam back down. Note that since the eclipse was such a short event, the zooplankton did not make it all the way to the surface.\n",
    "\n",
    "For this exercise, we will use xarray and 2-D plotting to examine a subset of this data. We will look specifically at the sonar backscatter data for two hours surrounding the solar eclipse.\n",
    "\n",
    "## Instructions\n",
    "Write your code and print your answers for Parts 1-4 in the specified cells below. Don't forget to import any necessary packages, and you will only need to import them once throughout your notebook.\n",
    "\n",
    "Make sure to *print()* for your answers at the bottom of each cell and _**use the provided variables to store your final answer!**_ You may name intermediary variables whatever you like, as long as the final answer is stored and printed in the ones we provide in your starter code."
   ]
  },
  {
   "cell_type": "markdown",
   "id": "d5283494-0acd-46e2-ba3e-723903e49a27",
   "metadata": {
    "deletable": false,
    "editable": false
   },
   "source": [
    "### Part 1\n",
    "1) Your netcdf file is stored in the **data** folder. The filepath string is listed in the starter code cell below this cell. Use the xarray `open_dataset()` function to open the .nc file as an xarray dataset and store the dataset in the `echodata` variable. (1 point)\n",
    "\n",
    "2) Display your DataSet in the solution cell below. Answer the following subquestions and store/print the answers in the approriate answer variables: (4 points)\n",
    "\n",
    ">a) Store the _coordinates_ of this DataSet in the `echo_coords` variable below without hardcoding. _HINT:_ Look at the Parameters section of xarray.dataset in the [dataset documentation](https://docs.xarray.dev/en/stable/generated/xarray.Dataset.html) and [here](https://docs.xarray.dev/en/stable/generated/xarray.Dataset.coords.html) on how to access the xarray.Dataset.coords.\n",
    "\n",
    ">b) Store the _data variables_ of this DataSet in the `echo_vars` variable below without hardcoding. _HINT:_ Check the documentation above and [here](https://docs.xarray.dev/en/stable/generated/xarray.Dataset.data_vars.html) on how to access the xarray.dataset.data_vars.\n",
    "\n",
    ">c) Store the _dimensions_ of this dataset in the `echo_dims` variable below without hardcoding. _HINT:_  Check the documentation above and [here](https://docs.xarray.dev/en/stable/generated/xarray.Dataset.dims.html) on how to access the xarray.dataset.dims. \n",
    "\n",
    "3) In a comment at the bottom of the cell, write which coordinates correspond to the layer, rows, and columns of the `echodata` dataset. (1 point)\n",
    "\n",
    "    For example, is frequency a layer, row, or a column in `echodata`? What about `ping_time` and `range_bin`? If you're having trouble getting started, try to visualize and draw out on paper what you think the data structure looks like based on the figures in the pre-lecture and lecture slides."
   ]
  },
  {
   "cell_type": "code",
   "execution_count": null,
   "id": "6f15aa56-9ce2-4efe-86ab-c19bd1e3a137",
   "metadata": {
    "deletable": false,
    "editable": false,
    "tags": []
   },
   "outputs": [],
   "source": [
    "# import engine to run xarray\n",
    "import netCDF4\n",
    "# filepath to .nc file (DO NOT CHANGE THIS CODE!)\n",
    "filepath = \"data/OOI-D20170821-T163049_MVBS.nc\"\n",
    "# solution cell below"
   ]
  },
  {
   "cell_type": "code",
   "execution_count": null,
   "id": "f110e279",
   "metadata": {
    "tags": []
   },
   "outputs": [],
   "source": [
    "# Write your code in this solution cell:\n",
    "print('Part #1)')\n",
    "print('Step 1)')\n",
    "# your code\n",
    "\n",
    "# answer variables\n",
    "echodata = \"\"\n",
    "\n",
    "print('Step 2)')\n",
    "# your code\n",
    "\n",
    "# answer variables\n",
    "echo_coords = \"\"\n",
    "echo_vars = \"\"\n",
    "echo_dims = \"\"\n",
    "\n",
    "# print statements\n",
    "\n",
    "print('Step 3)')\n",
    "## Which coordinates correspond to the layer, rows, and columns?\n",
    "# Write your answer in a comment:\n",
    "#\n",
    "#\n",
    "#"
   ]
  },
  {
   "cell_type": "markdown",
   "id": "a1eb2786-c078-497f-8ccb-2f95e4fa1d83",
   "metadata": {
    "deletable": false,
    "editable": false
   },
   "source": [
    "### Part 2\n",
    "1) The different layers of this DataSet are sonar backscatter measurements (MVBS) taken at different frequencies: 38 kHz, 120 kHz, and 200 kHz. The best frequency for detecting zooplankton is 200 kHz, so let's subset our echodataset by the 200 kHz frequency. (2 points)\n",
    "\n",
    ">a) Select the 200 kHz layer and assign it to the 'echodata_200` answer variable. _HINT:_ how many Hz is 200 kHz?\n",
    "\n",
    ">b) Display the new DataSet.\n",
    "\n",
    "2) Extract the ping_time (times), range_bin (depths), and MVBS **values** from your subsetted 200 kHz DataSet and store them as new arrays in the `times`, `depths`, and `MVBS` variables respectively. \n",
    "Store and print the shapes of each new array in the `times_shape`, `depths_shape`, and `MVBS_shape` variables. (3 points)"
   ]
  },
  {
   "cell_type": "code",
   "execution_count": null,
   "id": "c1803849-7f79-4976-bcb4-f6e980565d1c",
   "metadata": {
    "tags": []
   },
   "outputs": [],
   "source": [
    "print(\"Part #2)\")\n",
    "print('Step 1)')\n",
    "# your code\n",
    "\n",
    "# answer variables\n",
    "echodata_200 = \"\"\n",
    "\n",
    "# display new dataset\n",
    "\n",
    "print(\"Step 2)\")\n",
    "# your code\n",
    "\n",
    "# answer variables\n",
    "times = \"\"\n",
    "times_shape = \"\"\n",
    "depths = \"\"\n",
    "depths_shape = \"\"\n",
    "MVBS = \"\"\n",
    "MVBS_shape = \"\"\n",
    "\n",
    "# print statements"
   ]
  },
  {
   "cell_type": "markdown",
   "id": "9b37cbdf-1216-48af-8df8-fd651bb49a2f",
   "metadata": {
    "deletable": false,
    "editable": false
   },
   "source": [
    "### Part 3\n",
    "1) Plot the data using the `matplotlibs.pyplot figure()` and [pcolormesh()](https://matplotlib.org/stable/api/_as_gen/matplotlib.pyplot.pcolormesh.html) functions. **Include all required plot elements.** Use the shapes of the data that from Part 2 to figure out which variables correspond to x, y, and C (color) values. Add a colorbar to the side and a label. Can you see where the zooplankton are based on the backscattering data? (5 points)\n",
    "\n",
    "2) You may notice your plot looks different than the example plot above. This is because our x-axis and y-axis are flipped compared to the example figure. This means, we need to reshape your MVBS array so that we can plot the data with \"ping_time\" (time) on the x-axis and \"range_bin\" (depth) on the y-axis. Do this by following these steps: (9 points)\n",
    "\n",
    ">a) Flip the MVBS array using `numpy flip()`. (Look up the documentation if you're not sure how to do this!)\n",
    "\n",
    ">b) Transpose the flipped MVBS array using `numpy transpose()` and store it in the `MVBS_flipT` variable.\n",
    "\n",
    ">c) Store the shape of the resulting MVBS array in the `MVBS_flipT_shape` variable and print it.\n",
    "\n",
    ">d) Plot `MVBS_flipT` with \"ping_time\" on the x-axis, and \"range_bins\" on the y-axis. Flip the y-axis so that range values increase downward. Include a colorbar to the side and a label."
   ]
  },
  {
   "cell_type": "code",
   "execution_count": null,
   "id": "448fd5dc-2b6b-42b0-96a3-3ddc08b4b929",
   "metadata": {
    "tags": []
   },
   "outputs": [],
   "source": [
    "print(\"Part 3)\")\n",
    "print(\"Step 1)\")\n",
    "# your code for plotting\n",
    "\n",
    "print(\"Step 2\")\n",
    "# your code\n",
    "\n",
    "# answer variables\n",
    "MVBS_flipT = \"\"\n",
    "MVBS_flipT_shape = \"\"\n",
    "\n",
    "# your code for plotting\n"
   ]
  },
  {
   "cell_type": "markdown",
   "id": "d5d173c6-b133-4471-ad79-2f31ec74952c",
   "metadata": {
    "deletable": false,
    "editable": false
   },
   "source": [
    "<!-- BEGIN QUESTION -->\n",
    "\n",
    "### Part 4\n",
    "Improve the visibility of the zooplankton migration on your pcolormesh plot from Part 6. You can copy and paste most of your answer from Part 3 here (don't forget the colorbar or other required plot elements!), but adjust the following: (5 points) \n",
    "\n",
    ">a) Choose a good colormap from [matplotlib](https://matplotlib.org/stable/tutorials/colors/colormaps.html). Jet is a good example you can try, but try the other color gradients under the \"Miscellaneous\" section.\n",
    "\n",
    ">b) Experiment with changing the limits of your colormap. Do this by using `pcolormesh()` named arguments `vmin` and `vmax`, which represent the data range of the colormap. Try to get your plot visibility to look as similar to the example plot in the instructions.\n",
    "\n",
    "_HINT:_ Try adding/subtracting the standard deviation of the color data from the minimum and maximum of `MVBS_flipT`. How does this change your color scale, and what can you do to improve it? "
   ]
  },
  {
   "cell_type": "code",
   "execution_count": null,
   "id": "1d14ee68-f952-4842-820f-bb0d9f68ded3",
   "metadata": {
    "tags": []
   },
   "outputs": [],
   "source": [
    "print(\"Part 4)\")\n",
    "# your code for plotting\n",
    "\n"
   ]
  },
  {
   "cell_type": "markdown",
   "id": "340b9e53",
   "metadata": {
    "deletable": false,
    "editable": false
   },
   "source": [
    "<!-- END QUESTION -->\n",
    "\n"
   ]
  },
  {
   "cell_type": "markdown",
   "id": "2d83cbbe",
   "metadata": {
    "deletable": false,
    "editable": false
   },
   "source": [
    "---\n",
    "\n",
    "To double-check your work, the cell below will rerun all of the autograder tests."
   ]
  },
  {
   "cell_type": "code",
   "execution_count": null,
   "id": "6808098d",
   "metadata": {
    "deletable": false,
    "editable": false
   },
   "outputs": [],
   "source": [
    "grader.check_all()"
   ]
  }
 ],
 "metadata": {
  "kernelspec": {
   "display_name": "Python 3 (ipykernel)",
   "language": "python",
   "name": "python3"
  },
  "language_info": {
   "codemirror_mode": {
    "name": "ipython",
    "version": 3
   },
   "file_extension": ".py",
   "mimetype": "text/x-python",
   "name": "python",
   "nbconvert_exporter": "python",
   "pygments_lexer": "ipython3",
   "version": "3.10.10"
  },
  "otter": {
   "OK_FORMAT": true,
   "tests": {
    "Question 1 Part 1": {
     "name": "Question 1 Part 1",
     "points": null,
     "suites": [
      {
       "cases": [
        {
         "code": ">>> # Part 1: check if columns are correct\n>>> (pro_df.columns.values == ['time', 'Pressure Bin (dbar)', 'Seawater Temperature (deg_C)',\n...        'Practical Salinity', 'Dissolved Oxygen (umol kg-1)', 'CDOM (ppb)',\n...        'Nitrate (µmol L-1)']).all()\nTrue",
         "failure_message": "Are you reading in your dataframe correctly?",
         "hidden": false,
         "locked": false,
         "points": 2
        },
        {
         "code": ">>> # Part 1: check if number of rows are correct\n>>> df_rows == 305459\nTrue",
         "failure_message": "Check your df_rows variable!",
         "hidden": false,
         "locked": false,
         "points": 1
        }
       ],
       "scored": true,
       "setup": "",
       "teardown": "",
       "type": "doctest"
      }
     ]
    },
    "Question 1 Part 2": {
     "name": "Question 1 Part 2",
     "points": null,
     "suites": [
      {
       "cases": [
        {
         "code": ">>> # Part 2: check if mean seawater temperature is correctly calculated\n>>> np.round(mean_temp,1) == 9.4\nTrue",
         "failure_message": "Check your mean_temp variable!",
         "hidden": false,
         "locked": false,
         "points": 2
        }
       ],
       "scored": true,
       "setup": "",
       "teardown": "",
       "type": "doctest"
      }
     ]
    },
    "Question 1 Part 3": {
     "name": "Question 1 Part 3",
     "points": null,
     "suites": [
      {
       "cases": [
        {
         "code": ">>> # Part 3: check if august dataframe is correctly subsetted\n>>> ((len(aug_df) == 176) & (pd.unique(aug_df['time']=='2017-08-08 17:00:00'))).all()\nTrue",
         "failure_message": "Check your aug_df variable!",
         "hidden": false,
         "locked": false,
         "points": 2
        },
        {
         "code": ">>> # Part 3: check if august dataframe is correctly subsetted\n>>> ((len(dec_df) == 176) & (pd.unique(dec_df['time']=='2017-12-04 17:00:00'))).all()\nTrue",
         "failure_message": "Check your dec_df variable!",
         "hidden": false,
         "locked": false,
         "points": 2
        }
       ],
       "scored": true,
       "setup": "",
       "teardown": "",
       "type": "doctest"
      }
     ]
    },
    "Question 2 Part 1": {
     "name": "Question 2 Part 1",
     "points": null,
     "suites": [
      {
       "cases": [
        {
         "code": ">>> # Part 1, check if cruise_filepath variable is correct\n>>> cruise_filepath == \"data/35MJ20150607_CO2_underway_SOCATv4.tab\"\nTrue",
         "failure_message": "Check your cruise_filepath variable!",
         "hidden": false,
         "locked": false,
         "points": 1
        },
        {
         "code": ">>> # Part 1: check if they calculated correct number of header lines\n>>> header_lines==35\nTrue",
         "failure_message": "Check your header_lines variable!",
         "hidden": false,
         "locked": false,
         "points": 1
        },
        {
         "code": ">>> # part 1: check it data_cols variable is correct\n>>> import numpy as np\n>>> (np.sort(data_cols)==(1,2,4,5)).all()\nTrue",
         "failure_message": "Check your aug_df variable!",
         "hidden": false,
         "locked": false,
         "points": 1
        }
       ],
       "scored": true,
       "setup": "",
       "teardown": "",
       "type": "doctest"
      }
     ]
    },
    "Question 2 Part 2": {
     "name": "Question 2 Part 2",
     "points": null,
     "suites": [
      {
       "cases": [
        {
         "code": ">>> # Part 2: checks shape of lat_lon_sal_temp variable\n>>> lat_lon_sal_temp.shape == (5613, 4)\nTrue",
         "failure_message": "Check your lat_lon_sal_temp variable!",
         "hidden": false,
         "locked": false,
         "points": 1
        },
        {
         "code": ">>> # Part 2: checks first row of lat_lon_sal_temp variable\n>>> import numpy as np\n>>> (np.sort(lat_lon_sal_temp[0]) == [-52.371,   5.537,  27.628,  29.723]).all()\nTrue",
         "failure_message": "Check your lat_lon_sal_temp variable!",
         "hidden": false,
         "locked": false,
         "points": 1
        }
       ],
       "scored": true,
       "setup": "",
       "teardown": "",
       "type": "doctest"
      }
     ]
    },
    "Question 3": {
     "name": "Question 3",
     "points": null,
     "suites": [
      {
       "cases": [
        {
         "code": ">>> # Part 2: check dimensions variable\n>>> set(['frequency', 'ping_time', 'range_bin'])==set(list(echo_coords))\nTrue",
         "failure_message": "Check your echo_coords variable!",
         "hidden": false,
         "locked": false,
         "points": 1
        },
        {
         "code": ">>> # Part 2: check dimensions variable\n>>> set(['MVBS', 'MVBS_range_bin_size'])==set(list(echo_vars))\nTrue",
         "failure_message": "Check your echo_vars variable!",
         "hidden": false,
         "locked": false,
         "points": 1
        },
        {
         "code": ">>> # Part 2: check dimensions variable\n>>> set([3, 215,593])==set(list(dict(echo_dims).values()))\nTrue",
         "failure_message": "Check your echo_dims variable!",
         "hidden": false,
         "locked": false,
         "points": 1
        }
       ],
       "scored": true,
       "setup": "",
       "teardown": "",
       "type": "doctest"
      }
     ]
    },
    "Question 3 Part 2": {
     "name": "Question 3 Part 2",
     "points": null,
     "suites": [
      {
       "cases": [
        {
         "code": ">>> # Part 3: check dimensions echodata_200\n>>> list(dict(echodata_200.dims).values())==[593, 215]\nTrue",
         "failure_message": "Check your echodata_200 variable!",
         "hidden": false,
         "locked": false,
         "points": 1
        },
        {
         "code": ">>> # Part 4: check times variable\n>>> (times.dtype == '<M8[ns]') and (times_shape == (593,))\nTrue",
         "failure_message": "Check your times variable!",
         "hidden": false,
         "locked": false,
         "points": 1
        },
        {
         "code": ">>> # Part 4: check depths variable\n>>> (depths.dtype == 'int64') and (depths_shape == (215,))\nTrue",
         "failure_message": "Check your depths variable!",
         "hidden": false,
         "locked": false,
         "points": 1
        },
        {
         "code": ">>> # Part 4: check MVBS variable\n>>> (MVBS.dtype == 'float64') and (MVBS_shape == (593, 215))\nTrue",
         "failure_message": "Check your MVBS variable!",
         "hidden": false,
         "locked": false,
         "points": 1
        }
       ],
       "scored": true,
       "setup": "",
       "teardown": "",
       "type": "doctest"
      }
     ]
    },
    "Question 3 Part 3": {
     "name": "Question 3 Part 3",
     "points": null,
     "suites": [
      {
       "cases": [
        {
         "code": ">>> # Part 6: check MVBS_flipT variable by checking a few data points\n>>> (np.round(MVBS_flipT[0][0], 3) == -57.198) and (np.round(MVBS_flipT[-1][0], 3)==-43.323)\nTrue",
         "failure_message": "Check your MVBS_flipT_shape variable!",
         "hidden": false,
         "locked": false,
         "points": 2
        },
        {
         "code": ">>> # Part 6: check MVBS_flipT_shape variable\n>>> MVBS_flipT_shape == (215, 593)\nTrue",
         "failure_message": "Check your MVBS_flipT_shape variable!",
         "hidden": false,
         "locked": false,
         "points": 2
        }
       ],
       "scored": true,
       "setup": "",
       "teardown": "",
       "type": "doctest"
      }
     ]
    }
   }
  }
 },
 "nbformat": 4,
 "nbformat_minor": 5
}
